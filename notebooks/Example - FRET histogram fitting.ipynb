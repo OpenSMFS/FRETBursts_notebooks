{
 "cells": [
  {
   "cell_type": "markdown",
   "metadata": {},
   "source": [
    "# Example - FRET histogram fitting\n",
    "\n",
    "*This notebook is part of smFRET burst analysis software [FRETBursts](http://opensmfs.github.io/FRETBursts/).*"
   ]
  },
  {
   "cell_type": "markdown",
   "metadata": {},
   "source": [
    "> In this notebook shows how to fit a FRET histogram.\n",
    "> For a complete tutorial on burst analysis see \n",
    "> [FRETBursts - us-ALEX smFRET burst analysis](FRETBursts - us-ALEX smFRET burst analysis.ipynb)."
   ]
  },
  {
   "cell_type": "code",
   "execution_count": 1,
   "metadata": {},
   "outputs": [
    {
     "name": "stdout",
     "output_type": "stream",
     "text": [
      " - Optimized (cython) burst search loaded.\n",
      " - Optimized (cython) photon counting loaded.\n",
      "--------------------------------------------------------------\n",
      " You are running FRETBursts (version 0.6.5+5.g5243bc2).\n",
      "\n",
      " If you use this software please cite the following paper:\n",
      "\n",
      "   FRETBursts: An Open Source Toolkit for Analysis of Freely-Diffusing Single-Molecule FRET\n",
      "   Ingargiola et al. (2016). http://dx.doi.org/10.1371/journal.pone.0160716 \n",
      "\n",
      "--------------------------------------------------------------\n"
     ]
    }
   ],
   "source": [
    "from fretbursts import *"
   ]
  },
  {
   "cell_type": "code",
   "execution_count": 2,
   "metadata": {},
   "outputs": [
    {
     "name": "stdout",
     "output_type": "stream",
     "text": [
      "lmfit version: 0.9.7\n"
     ]
    }
   ],
   "source": [
    "sns = init_notebook(apionly=True)\n",
    "import lmfit\n",
    "print('lmfit version:', lmfit.__version__)"
   ]
  },
  {
   "cell_type": "code",
   "execution_count": 3,
   "metadata": {},
   "outputs": [],
   "source": [
    "# Tweak here matplotlib style\n",
    "import matplotlib as mpl\n",
    "mpl.rcParams['font.sans-serif'].insert(0, 'Arial')\n",
    "mpl.rcParams['font.size'] = 12\n",
    "%config InlineBackend.figure_format = 'retina'"
   ]
  },
  {
   "cell_type": "markdown",
   "metadata": {},
   "source": [
    "# Get and process data"
   ]
  },
  {
   "cell_type": "code",
   "execution_count": 4,
   "metadata": {},
   "outputs": [
    {
     "name": "stdout",
     "output_type": "stream",
     "text": [
      "URL:  http://files.figshare.com/2182601/0023uLRpitc_NTP_20dT_0.5GndCl.hdf5\n",
      "File: 0023uLRpitc_NTP_20dT_0.5GndCl.hdf5\n",
      " \n",
      "File already on disk: /Users/anto/src/FRETBursts/notebooks/data/0023uLRpitc_NTP_20dT_0.5GndCl.hdf5 \n",
      "Delete it to re-download.\n"
     ]
    },
    {
     "name": "stdout",
     "output_type": "stream",
     "text": [
      "# Total photons (after ALEX selection):     2,259,522\n",
      "#  D  photons in D+A excitation periods:      721,537\n",
      "#  A  photons in D+A excitation periods:    1,537,985\n",
      "# D+A photons in  D  excitation period:     1,434,842\n",
      "# D+A photons in  A  excitation period:       824,680\n",
      "\n",
      " - Calculating BG rates ... "
     ]
    },
    {
     "name": "stdout",
     "output_type": "stream",
     "text": [
      "[DONE]\n"
     ]
    },
    {
     "name": "stdout",
     "output_type": "stream",
     "text": [
      " - Performing burst search (verbose=False) ..."
     ]
    },
    {
     "name": "stdout",
     "output_type": "stream",
     "text": [
      "[DONE]\n"
     ]
    },
    {
     "name": "stdout",
     "output_type": "stream",
     "text": [
      " - Calculating burst periods ..."
     ]
    },
    {
     "name": "stdout",
     "output_type": "stream",
     "text": [
      "[DONE]\n"
     ]
    },
    {
     "name": "stdout",
     "output_type": "stream",
     "text": [
      " - Counting D and A ph and calculating FRET ... \n"
     ]
    },
    {
     "name": "stdout",
     "output_type": "stream",
     "text": [
      "   - Applying background correction.\n"
     ]
    },
    {
     "name": "stdout",
     "output_type": "stream",
     "text": [
      "   [DONE Counting D/A]\n"
     ]
    }
   ],
   "source": [
    "url = 'http://files.figshare.com/2182601/0023uLRpitc_NTP_20dT_0.5GndCl.hdf5'\n",
    "download_file(url, save_dir='./data')\n",
    "full_fname = \"./data/0023uLRpitc_NTP_20dT_0.5GndCl.hdf5\"\n",
    "\n",
    "d = loader.photon_hdf5(full_fname)\n",
    "loader.alex_apply_period(d)\n",
    "d.calc_bg(bg.exp_fit, time_s=1000, tail_min_us=(800, 4000, 1500, 1000, 3000))\n",
    "d.burst_search(L=10, m=10, F=6)\n",
    "ds = d.select_bursts(select_bursts.size, add_naa=True, th1=30)"
   ]
  },
  {
   "cell_type": "markdown",
   "metadata": {},
   "source": [
    "# Fitting the FRET histogram\n",
    "\n"
   ]
  },
  {
   "cell_type": "markdown",
   "metadata": {},
   "source": [
    "We start defining the model. Here we choose a 3-Gaussian model:"
   ]
  },
  {
   "cell_type": "code",
   "execution_count": 5,
   "metadata": {},
   "outputs": [
    {
     "name": "stdout",
     "output_type": "stream",
     "text": [
      "Name             Value      Min      Max     Vary    Expr    \n",
      "p1_amplitude         1     0.01      inf     True    \n",
      "p1_center            0        0        1     True    \n",
      "p1_fwhm            nan     -inf      inf     True    2.3548200*p1_sigma\n",
      "p1_height          nan     -inf      inf     True    0.3989423*p1_amplitude/max(1.e-15, p1_sigma)\n",
      "p1_sigma          0.05     0.02      0.2     True    \n",
      "p2_amplitude         1     0.01      inf     True    \n",
      "p2_center          0.5        0        1     True    \n",
      "p2_fwhm            nan     -inf      inf     True    2.3548200*p2_sigma\n",
      "p2_height          nan     -inf      inf     True    0.3989423*p2_amplitude/max(1.e-15, p2_sigma)\n",
      "p2_sigma          0.05     0.02      0.2     True    \n",
      "p3_amplitude         1     0.01      inf     True    \n",
      "p3_center            1        0        1     True    \n",
      "p3_fwhm            nan     -inf      inf     True    2.3548200*p3_sigma\n",
      "p3_height          nan     -inf      inf     True    0.3989423*p3_amplitude/max(1.e-15, p3_sigma)\n",
      "p3_sigma          0.05     0.02      0.2     True    \n"
     ]
    }
   ],
   "source": [
    "model = mfit.factory_three_gaussians()\n",
    "model.print_param_hints()"
   ]
  },
  {
   "cell_type": "markdown",
   "metadata": {},
   "source": [
    "The previsou cell prints all the model parameters. \n",
    "Each parameters has an initial value and bounds (min, max).\n",
    "The column `vary` tells if a parameter is varied during the fit\n",
    "(if False the parameter is fixed).\n",
    "Parameters with an expression (`Expr` column) are not free but\n",
    "the are computed as a function of other parameters.\n",
    "\n",
    "We can modify the paramenters constrains as follows:"
   ]
  },
  {
   "cell_type": "code",
   "execution_count": 6,
   "metadata": {},
   "outputs": [],
   "source": [
    "model.set_param_hint('p1_center', value=0.1, min=-0.1, max=0.3)\n",
    "model.set_param_hint('p2_center', value=0.4, min=0.3, max=0.7)\n",
    "model.set_param_hint('p2_sigma', value=0.04, min=0.02, max=0.18)\n",
    "model.set_param_hint('p3_center', value=0.85, min=0.7, max=1.1)"
   ]
  },
  {
   "cell_type": "markdown",
   "metadata": {},
   "source": [
    "Then, we fit and plot the model:"
   ]
  },
  {
   "cell_type": "code",
   "execution_count": 7,
   "metadata": {},
   "outputs": [
    {
     "data": {
      "image/png": "[encoded data removed]",
      "text/plain": [
       "<matplotlib.figure.Figure at 0x1237da940>"
      ]
     },
     "metadata": {
      "image/png": {
       "height": 308,
       "width": 560
      }
     },
     "output_type": "display_data"
    }
   ],
   "source": [
    "E_fitter = bext.bursts_fitter(ds, 'E', binwidth=0.03)\n",
    "E_fitter.fit_histogram(model=model, pdf=False, method='nelder')\n",
    "E_fitter.fit_histogram(model=model, pdf=False, method='leastsq')\n",
    "dplot(ds, hist_fret, show_model=True, pdf=False);"
   ]
  },
  {
   "cell_type": "code",
   "execution_count": 8,
   "metadata": {},
   "outputs": [],
   "source": [
    "# dplot(ds, hist_fret, show_model=True, pdf=False, figsize=(6, 4.5));\n",
    "# plt.xlim(-0.1, 1.1)\n",
    "# plt.savefig('fret_hist_fit.png', bbox_inches='tight', dpi=200, transparent=False)"
   ]
  },
  {
   "cell_type": "markdown",
   "metadata": {},
   "source": [
    "The results are in `E_fitter`:"
   ]
  },
  {
   "cell_type": "code",
   "execution_count": 9,
   "metadata": {},
   "outputs": [
    {
     "name": "stdout",
     "output_type": "stream",
     "text": [
      "Name             Value      Min      Max   Stderr     Vary     Expr Brute_Step\n",
      "p1_amplitude     26.43     0.01      inf    2.665     True     None     None\n",
      "p1_center       0.1304     -0.1      0.3 0.003665     True     None     None\n",
      "p1_fwhm         0.1247     -inf      inf 0.009604    False 2.3548200*p1_sigma     None\n",
      "p1_height          199     -inf      inf     12.7    False 0.3989423*p1_amplitude/max(1.e-15, p1_sigma)     None\n",
      "p1_sigma       0.05296     0.02      0.2 0.004079     True     None     None\n",
      "p2_amplitude     97.73     0.01      inf    5.766     True     None     None\n",
      "p2_center         0.42      0.3      0.7 0.006083     True     None     None\n",
      "p2_fwhm         0.3394     -inf      inf  0.02357    False 2.3548200*p2_sigma     None\n",
      "p2_height        270.5     -inf      inf    6.868    False 0.3989423*p2_amplitude/max(1.e-15, p2_sigma)     None\n",
      "p2_sigma        0.1441     0.02     0.18  0.01001     True     None     None\n",
      "p3_amplitude     46.61     0.01      inf      4.2     True     None     None\n",
      "p3_center       0.8268      0.7      1.1  0.01187     True     None     None\n",
      "p3_fwhm         0.2946     -inf      inf  0.02508    False 2.3548200*p3_sigma     None\n",
      "p3_height        148.6     -inf      inf    6.991    False 0.3989423*p3_amplitude/max(1.e-15, p3_sigma)     None\n",
      "p3_sigma        0.1251     0.02      0.2  0.01065     True     None     None\n"
     ]
    }
   ],
   "source": [
    "res = E_fitter.fit_res[0]\n",
    "res.params.pretty_print()"
   ]
  },
  {
   "cell_type": "markdown",
   "metadata": {},
   "source": [
    "To get a dictionary of values:"
   ]
  },
  {
   "cell_type": "code",
   "execution_count": 10,
   "metadata": {},
   "outputs": [
    {
     "data": {
      "text/plain": [
       "{'p1_amplitude': 26.425112546882755,\n",
       " 'p1_center': 0.1304211780456301,\n",
       " 'p1_fwhm': 0.12471768267083956,\n",
       " 'p1_height': 199.04744887476406,\n",
       " 'p1_sigma': 0.05296272439967367,\n",
       " 'p2_amplitude': 97.725109792777,\n",
       " 'p2_center': 0.419974100092639,\n",
       " 'p2_fwhm': 0.3394332126358552,\n",
       " 'p2_height': 270.47033272302514,\n",
       " 'p2_sigma': 0.14414401637316449,\n",
       " 'p3_amplitude': 46.61031803037159,\n",
       " 'p3_center': 0.8267695396211263,\n",
       " 'p3_fwhm': 0.2945718036320869,\n",
       " 'p3_height': 148.6478716009145,\n",
       " 'p3_sigma': 0.12509312967958777}"
      ]
     },
     "execution_count": 10,
     "metadata": {},
     "output_type": "execute_result"
    }
   ],
   "source": [
    "res.values"
   ]
  },
  {
   "cell_type": "markdown",
   "metadata": {},
   "source": [
    "This is the startndard lmfit's fit report:"
   ]
  },
  {
   "cell_type": "code",
   "execution_count": 11,
   "metadata": {},
   "outputs": [
    {
     "name": "stdout",
     "output_type": "stream",
     "text": [
      "[[Model]]\n",
      "    ((Model(gaussian, prefix='p1_') + Model(gaussian, prefix='p2_')) + Model(gaussian, prefix='p3_'))\n",
      "[[Fit Statistics]]\n",
      "    # function evals   = 156\n",
      "    # data points      = 46\n",
      "    # variables        = 9\n",
      "    chi-square         = 7950.001\n",
      "    reduced chi-square = 214.865\n",
      "    Akaike info crit   = 255.005\n",
      "    Bayesian info crit = 271.463\n",
      "[[Variables]]\n",
      "    p1_sigma:       0.05296272 +/- 0.004078 (7.70%) (init= 0.05)\n",
      "    p1_center:      0.13042117 +/- 0.003665 (2.81%) (init= 0.1)\n",
      "    p1_amplitude:   26.4251125 +/- 2.664757 (10.08%) (init= 1)\n",
      "    p2_sigma:       0.14414401 +/- 0.010011 (6.95%) (init= 0.04)\n",
      "    p2_center:      0.41997410 +/- 0.006082 (1.45%) (init= 0.4)\n",
      "    p2_amplitude:   97.7251097 +/- 5.766403 (5.90%) (init= 1)\n",
      "    p3_sigma:       0.12509312 +/- 0.010649 (8.51%) (init= 0.05)\n",
      "    p3_center:      0.82676953 +/- 0.011870 (1.44%) (init= 0.85)\n",
      "    p3_amplitude:   46.6103180 +/- 4.200092 (9.01%) (init= 1)\n",
      "    p1_fwhm:        0.12471768 +/- 0.009604 (7.70%)  == '2.3548200*p1_sigma'\n",
      "    p1_height:      199.047448 +/- 12.70087 (6.38%)  == '0.3989423*p1_amplitude/max(1.e-15, p1_sigma)'\n",
      "    p2_fwhm:        0.33943321 +/- 0.023574 (6.95%)  == '2.3548200*p2_sigma'\n",
      "    p2_height:      270.470332 +/- 6.868062 (2.54%)  == '0.3989423*p2_amplitude/max(1.e-15, p2_sigma)'\n",
      "    p3_fwhm:        0.29457180 +/- 0.025077 (8.51%)  == '2.3548200*p3_sigma'\n",
      "    p3_height:      148.647871 +/- 6.991347 (4.70%)  == '0.3989423*p3_amplitude/max(1.e-15, p3_sigma)'\n",
      "[[Correlations]] (unreported correlations are <  0.500)\n",
      "    C(p2_sigma, p2_amplitude)    =  0.935 \n",
      "    C(p3_sigma, p3_amplitude)    =  0.857 \n",
      "    C(p2_amplitude, p3_amplitude)  = -0.806 \n",
      "    C(p1_amplitude, p2_sigma)    = -0.792 \n",
      "    C(p2_sigma, p3_amplitude)    = -0.789 \n",
      "    C(p2_amplitude, p3_center)   =  0.779 \n",
      "    C(p1_sigma, p1_amplitude)    =  0.774 \n",
      "    C(p2_sigma, p3_center)       =  0.768 \n",
      "    C(p1_amplitude, p2_amplitude)  = -0.762 \n",
      "    C(p3_center, p3_amplitude)   = -0.731 \n",
      "    C(p2_amplitude, p3_sigma)    = -0.713 \n",
      "    C(p2_sigma, p3_sigma)        = -0.665 \n",
      "    C(p3_sigma, p3_center)       = -0.660 \n",
      "    C(p1_sigma, p2_sigma)        = -0.554 \n",
      "    C(p2_center, p3_sigma)       = -0.553 \n",
      "    C(p1_sigma, p2_amplitude)    = -0.547 \n",
      "    C(p2_center, p3_amplitude)   = -0.534 \n",
      "    C(p1_amplitude, p3_amplitude)  =  0.531 \n",
      "    C(p1_amplitude, p3_center)   = -0.518 \n",
      "    C(p2_center, p3_center)      =  0.511 \n",
      "\n"
     ]
    }
   ],
   "source": [
    "print(res.fit_report(min_correl=0.5))"
   ]
  },
  {
   "cell_type": "markdown",
   "metadata": {},
   "source": [
    "The previous cell reports error ranges computed from the covariance matrix.\n",
    "[More accurare confidence intervals](https://lmfit.github.io/lmfit-py/confidence.html) \n",
    "can be obtained with:"
   ]
  },
  {
   "cell_type": "code",
   "execution_count": 12,
   "metadata": {},
   "outputs": [
    {
     "name": "stderr",
     "output_type": "stream",
     "text": [
      "/Users/anto/miniconda3/envs/fretbursts-dev/lib/python3.6/site-packages/lmfit/confidence.py:303: UserWarning: Warning, rel_change=0.0 < 0.01  at iteration 5 and prob(p2_sigma=0.19420068222167178) = 0.9928120659904571 < max(sigmas).\n",
      "  warn(errmsg)\n"
     ]
    },
    {
     "name": "stdout",
     "output_type": "stream",
     "text": [
      "                 99.73%    95.45%    68.27%    _BEST_    68.27%    95.45%    99.73%\n",
      " p1_sigma    :  -0.01374  -0.00894  -0.00442   0.05296  +0.00456  +0.00953  +0.01531\n",
      " p1_center   :  -0.01193  -0.00771  -0.00382   0.13042  +0.00397  +0.00835  +0.01354\n",
      " p1_amplitude:  -9.30991  -6.10472  -3.00234  26.42511  +2.97612  +6.05976  +9.43949\n",
      " p2_sigma    :  -0.03326  -0.02232  -0.01138   0.14414  +0.01224  +0.02572      +inf\n",
      " p2_center   :  -0.02278  -0.01400  -0.00664   0.41997  +0.00641  +0.01298  +0.02009\n",
      " p2_amplitude: -22.75290 -14.16482  -6.83120  97.72511  +6.80352 +13.90510 +21.30745\n",
      " p3_sigma    :  -0.03201  -0.02169  -0.01125   0.12509  +0.01292  +0.02877  +0.04959\n",
      " p3_center   :  -0.05671  -0.03303  -0.01497   0.82677  +0.01330  +0.02587  +0.03840\n",
      " p3_amplitude: -13.74698  -9.15839  -4.65290  46.61032  +5.09443 +11.07792 +18.71141\n"
     ]
    }
   ],
   "source": [
    "ci = res.conf_interval()\n",
    "lmfit.report_ci(ci)"
   ]
  },
  {
   "cell_type": "markdown",
   "metadata": {},
   "source": [
    "# Tidy fit results\n",
    "\n",
    "It is convenient to put the fit results in a DataFrame for further analysis.\n",
    "A dataframe of fitted parameters is already in `E_fitter`:"
   ]
  },
  {
   "cell_type": "code",
   "execution_count": 13,
   "metadata": {},
   "outputs": [
    {
     "data": {
      "text/html": [
       "<div>\n",
       "<style>\n",
       "    .dataframe thead tr:only-child th {\n",
       "        text-align: right;\n",
       "    }\n",
       "\n",
       "    .dataframe thead th {\n",
       "        text-align: left;\n",
       "    }\n",
       "\n",
       "    .dataframe tbody tr th {\n",
       "        vertical-align: top;\n",
       "    }\n",
       "</style>\n",
       "<table border=\"1\" class=\"dataframe\">\n",
       "  <thead>\n",
       "    <tr style=\"text-align: right;\">\n",
       "      <th></th>\n",
       "      <th>p1_amplitude</th>\n",
       "      <th>p1_center</th>\n",
       "      <th>p1_sigma</th>\n",
       "      <th>p2_amplitude</th>\n",
       "      <th>p2_center</th>\n",
       "      <th>p2_sigma</th>\n",
       "      <th>p3_amplitude</th>\n",
       "      <th>p3_center</th>\n",
       "      <th>p3_sigma</th>\n",
       "    </tr>\n",
       "  </thead>\n",
       "  <tbody>\n",
       "    <tr>\n",
       "      <th>0</th>\n",
       "      <td>26.4251</td>\n",
       "      <td>0.130421</td>\n",
       "      <td>0.0529627</td>\n",
       "      <td>97.7251</td>\n",
       "      <td>0.419974</td>\n",
       "      <td>0.144144</td>\n",
       "      <td>46.6103</td>\n",
       "      <td>0.82677</td>\n",
       "      <td>0.125093</td>\n",
       "    </tr>\n",
       "  </tbody>\n",
       "</table>\n",
       "</div>"
      ],
      "text/plain": [
       "  p1_amplitude p1_center   p1_sigma p2_amplitude p2_center  p2_sigma  \\\n",
       "0      26.4251  0.130421  0.0529627      97.7251  0.419974  0.144144   \n",
       "\n",
       "  p3_amplitude p3_center  p3_sigma  \n",
       "0      46.6103   0.82677  0.125093  "
      ]
     },
     "execution_count": 13,
     "metadata": {},
     "output_type": "execute_result"
    }
   ],
   "source": [
    "E_fitter.params"
   ]
  },
  {
   "cell_type": "markdown",
   "metadata": {},
   "source": [
    "With [`pybroom`](http://pybroom.readthedocs.io/) we can get a \"tidy\" DataFrame\n",
    "with more complete fit results:"
   ]
  },
  {
   "cell_type": "code",
   "execution_count": 14,
   "metadata": {},
   "outputs": [],
   "source": [
    "import pybroom as br"
   ]
  },
  {
   "cell_type": "code",
   "execution_count": 15,
   "metadata": {},
   "outputs": [
    {
     "data": {
      "text/html": [
       "<div>\n",
       "<style>\n",
       "    .dataframe thead tr:only-child th {\n",
       "        text-align: right;\n",
       "    }\n",
       "\n",
       "    .dataframe thead th {\n",
       "        text-align: left;\n",
       "    }\n",
       "\n",
       "    .dataframe tbody tr th {\n",
       "        vertical-align: top;\n",
       "    }\n",
       "</style>\n",
       "<table border=\"1\" class=\"dataframe\">\n",
       "  <thead>\n",
       "    <tr style=\"text-align: right;\">\n",
       "      <th></th>\n",
       "      <th>name</th>\n",
       "      <th>value</th>\n",
       "      <th>min</th>\n",
       "      <th>max</th>\n",
       "      <th>vary</th>\n",
       "      <th>expr</th>\n",
       "      <th>stderr</th>\n",
       "      <th>init_value</th>\n",
       "    </tr>\n",
       "  </thead>\n",
       "  <tbody>\n",
       "    <tr>\n",
       "      <th>0</th>\n",
       "      <td>p1_amplitude</td>\n",
       "      <td>26.425113</td>\n",
       "      <td>0.010000</td>\n",
       "      <td>inf</td>\n",
       "      <td>True</td>\n",
       "      <td>None</td>\n",
       "      <td>2.664758</td>\n",
       "      <td>1.00</td>\n",
       "    </tr>\n",
       "    <tr>\n",
       "      <th>1</th>\n",
       "      <td>p1_center</td>\n",
       "      <td>0.130421</td>\n",
       "      <td>-0.100000</td>\n",
       "      <td>0.300000</td>\n",
       "      <td>True</td>\n",
       "      <td>None</td>\n",
       "      <td>0.003665</td>\n",
       "      <td>0.10</td>\n",
       "    </tr>\n",
       "    <tr>\n",
       "      <th>2</th>\n",
       "      <td>p1_fwhm</td>\n",
       "      <td>0.124718</td>\n",
       "      <td>-inf</td>\n",
       "      <td>inf</td>\n",
       "      <td>False</td>\n",
       "      <td>2.3548200*p1_sigma</td>\n",
       "      <td>0.009604</td>\n",
       "      <td>NaN</td>\n",
       "    </tr>\n",
       "    <tr>\n",
       "      <th>3</th>\n",
       "      <td>p1_height</td>\n",
       "      <td>199.047449</td>\n",
       "      <td>-inf</td>\n",
       "      <td>inf</td>\n",
       "      <td>False</td>\n",
       "      <td>0.3989423*p1_amplitude/max(1.e-15, p1_sigma)</td>\n",
       "      <td>12.700874</td>\n",
       "      <td>NaN</td>\n",
       "    </tr>\n",
       "    <tr>\n",
       "      <th>4</th>\n",
       "      <td>p1_sigma</td>\n",
       "      <td>0.052963</td>\n",
       "      <td>0.020000</td>\n",
       "      <td>0.200000</td>\n",
       "      <td>True</td>\n",
       "      <td>None</td>\n",
       "      <td>0.004079</td>\n",
       "      <td>0.05</td>\n",
       "    </tr>\n",
       "    <tr>\n",
       "      <th>...</th>\n",
       "      <td>...</td>\n",
       "      <td>...</td>\n",
       "      <td>...</td>\n",
       "      <td>...</td>\n",
       "      <td>...</td>\n",
       "      <td>...</td>\n",
       "      <td>...</td>\n",
       "      <td>...</td>\n",
       "    </tr>\n",
       "    <tr>\n",
       "      <th>10</th>\n",
       "      <td>p3_amplitude</td>\n",
       "      <td>46.610318</td>\n",
       "      <td>0.010000</td>\n",
       "      <td>inf</td>\n",
       "      <td>True</td>\n",
       "      <td>None</td>\n",
       "      <td>4.200093</td>\n",
       "      <td>1.00</td>\n",
       "    </tr>\n",
       "    <tr>\n",
       "      <th>11</th>\n",
       "      <td>p3_center</td>\n",
       "      <td>0.826770</td>\n",
       "      <td>0.700000</td>\n",
       "      <td>1.100000</td>\n",
       "      <td>True</td>\n",
       "      <td>None</td>\n",
       "      <td>0.011871</td>\n",
       "      <td>0.85</td>\n",
       "    </tr>\n",
       "    <tr>\n",
       "      <th>12</th>\n",
       "      <td>p3_fwhm</td>\n",
       "      <td>0.294572</td>\n",
       "      <td>-inf</td>\n",
       "      <td>inf</td>\n",
       "      <td>False</td>\n",
       "      <td>2.3548200*p3_sigma</td>\n",
       "      <td>0.025078</td>\n",
       "      <td>NaN</td>\n",
       "    </tr>\n",
       "    <tr>\n",
       "      <th>13</th>\n",
       "      <td>p3_height</td>\n",
       "      <td>148.647872</td>\n",
       "      <td>-inf</td>\n",
       "      <td>inf</td>\n",
       "      <td>False</td>\n",
       "      <td>0.3989423*p3_amplitude/max(1.e-15, p3_sigma)</td>\n",
       "      <td>6.991347</td>\n",
       "      <td>NaN</td>\n",
       "    </tr>\n",
       "    <tr>\n",
       "      <th>14</th>\n",
       "      <td>p3_sigma</td>\n",
       "      <td>0.125093</td>\n",
       "      <td>0.020000</td>\n",
       "      <td>0.200000</td>\n",
       "      <td>True</td>\n",
       "      <td>None</td>\n",
       "      <td>0.010650</td>\n",
       "      <td>0.05</td>\n",
       "    </tr>\n",
       "  </tbody>\n",
       "</table>\n",
       "<p>15 rows × 8 columns</p>\n",
       "</div>"
      ],
      "text/plain": [
       "            name       value       min       max   vary  \\\n",
       "0   p1_amplitude   26.425113  0.010000       inf   True   \n",
       "1      p1_center    0.130421 -0.100000  0.300000   True   \n",
       "2        p1_fwhm    0.124718      -inf       inf  False   \n",
       "3      p1_height  199.047449      -inf       inf  False   \n",
       "4       p1_sigma    0.052963  0.020000  0.200000   True   \n",
       "..           ...         ...       ...       ...    ...   \n",
       "10  p3_amplitude   46.610318  0.010000       inf   True   \n",
       "11     p3_center    0.826770  0.700000  1.100000   True   \n",
       "12       p3_fwhm    0.294572      -inf       inf  False   \n",
       "13     p3_height  148.647872      -inf       inf  False   \n",
       "14      p3_sigma    0.125093  0.020000  0.200000   True   \n",
       "\n",
       "                                            expr     stderr  init_value  \n",
       "0                                           None   2.664758        1.00  \n",
       "1                                           None   0.003665        0.10  \n",
       "2                             2.3548200*p1_sigma   0.009604         NaN  \n",
       "3   0.3989423*p1_amplitude/max(1.e-15, p1_sigma)  12.700874         NaN  \n",
       "4                                           None   0.004079        0.05  \n",
       "..                                           ...        ...         ...  \n",
       "10                                          None   4.200093        1.00  \n",
       "11                                          None   0.011871        0.85  \n",
       "12                            2.3548200*p3_sigma   0.025078         NaN  \n",
       "13  0.3989423*p3_amplitude/max(1.e-15, p3_sigma)   6.991347         NaN  \n",
       "14                                          None   0.010650        0.05  \n",
       "\n",
       "[15 rows x 8 columns]"
      ]
     },
     "execution_count": 15,
     "metadata": {},
     "output_type": "execute_result"
    }
   ],
   "source": [
    "df = br.tidy(res)\n",
    "df"
   ]
  },
  {
   "cell_type": "markdown",
   "metadata": {},
   "source": [
    "Now, for example, we can easily select parameters by name:"
   ]
  },
  {
   "cell_type": "code",
   "execution_count": 16,
   "metadata": {},
   "outputs": [
    {
     "data": {
      "text/html": [
       "<div>\n",
       "<style>\n",
       "    .dataframe thead tr:only-child th {\n",
       "        text-align: right;\n",
       "    }\n",
       "\n",
       "    .dataframe thead th {\n",
       "        text-align: left;\n",
       "    }\n",
       "\n",
       "    .dataframe tbody tr th {\n",
       "        vertical-align: top;\n",
       "    }\n",
       "</style>\n",
       "<table border=\"1\" class=\"dataframe\">\n",
       "  <thead>\n",
       "    <tr style=\"text-align: right;\">\n",
       "      <th></th>\n",
       "      <th>name</th>\n",
       "      <th>value</th>\n",
       "      <th>min</th>\n",
       "      <th>max</th>\n",
       "      <th>vary</th>\n",
       "      <th>expr</th>\n",
       "      <th>stderr</th>\n",
       "      <th>init_value</th>\n",
       "    </tr>\n",
       "  </thead>\n",
       "  <tbody>\n",
       "    <tr>\n",
       "      <th>1</th>\n",
       "      <td>p1_center</td>\n",
       "      <td>0.130421</td>\n",
       "      <td>-0.1</td>\n",
       "      <td>0.3</td>\n",
       "      <td>True</td>\n",
       "      <td>None</td>\n",
       "      <td>0.003665</td>\n",
       "      <td>0.10</td>\n",
       "    </tr>\n",
       "    <tr>\n",
       "      <th>6</th>\n",
       "      <td>p2_center</td>\n",
       "      <td>0.419974</td>\n",
       "      <td>0.3</td>\n",
       "      <td>0.7</td>\n",
       "      <td>True</td>\n",
       "      <td>None</td>\n",
       "      <td>0.006083</td>\n",
       "      <td>0.40</td>\n",
       "    </tr>\n",
       "    <tr>\n",
       "      <th>11</th>\n",
       "      <td>p3_center</td>\n",
       "      <td>0.826770</td>\n",
       "      <td>0.7</td>\n",
       "      <td>1.1</td>\n",
       "      <td>True</td>\n",
       "      <td>None</td>\n",
       "      <td>0.011871</td>\n",
       "      <td>0.85</td>\n",
       "    </tr>\n",
       "  </tbody>\n",
       "</table>\n",
       "</div>"
      ],
      "text/plain": [
       "         name     value  min  max  vary  expr    stderr  init_value\n",
       "1   p1_center  0.130421 -0.1  0.3  True  None  0.003665        0.10\n",
       "6   p2_center  0.419974  0.3  0.7  True  None  0.006083        0.40\n",
       "11  p3_center  0.826770  0.7  1.1  True  None  0.011871        0.85"
      ]
     },
     "execution_count": 16,
     "metadata": {},
     "output_type": "execute_result"
    }
   ],
   "source": [
    "df.loc[df.name.str.contains('center')]"
   ]
  },
  {
   "cell_type": "code",
   "execution_count": 17,
   "metadata": {},
   "outputs": [
    {
     "data": {
      "text/html": [
       "<div>\n",
       "<style>\n",
       "    .dataframe thead tr:only-child th {\n",
       "        text-align: right;\n",
       "    }\n",
       "\n",
       "    .dataframe thead th {\n",
       "        text-align: left;\n",
       "    }\n",
       "\n",
       "    .dataframe tbody tr th {\n",
       "        vertical-align: top;\n",
       "    }\n",
       "</style>\n",
       "<table border=\"1\" class=\"dataframe\">\n",
       "  <thead>\n",
       "    <tr style=\"text-align: right;\">\n",
       "      <th></th>\n",
       "      <th>name</th>\n",
       "      <th>value</th>\n",
       "      <th>min</th>\n",
       "      <th>max</th>\n",
       "      <th>vary</th>\n",
       "      <th>expr</th>\n",
       "      <th>stderr</th>\n",
       "      <th>init_value</th>\n",
       "    </tr>\n",
       "  </thead>\n",
       "  <tbody>\n",
       "    <tr>\n",
       "      <th>4</th>\n",
       "      <td>p1_sigma</td>\n",
       "      <td>0.052963</td>\n",
       "      <td>0.02</td>\n",
       "      <td>0.20</td>\n",
       "      <td>True</td>\n",
       "      <td>None</td>\n",
       "      <td>0.004079</td>\n",
       "      <td>0.05</td>\n",
       "    </tr>\n",
       "    <tr>\n",
       "      <th>9</th>\n",
       "      <td>p2_sigma</td>\n",
       "      <td>0.144144</td>\n",
       "      <td>0.02</td>\n",
       "      <td>0.18</td>\n",
       "      <td>True</td>\n",
       "      <td>None</td>\n",
       "      <td>0.010011</td>\n",
       "      <td>0.04</td>\n",
       "    </tr>\n",
       "    <tr>\n",
       "      <th>14</th>\n",
       "      <td>p3_sigma</td>\n",
       "      <td>0.125093</td>\n",
       "      <td>0.02</td>\n",
       "      <td>0.20</td>\n",
       "      <td>True</td>\n",
       "      <td>None</td>\n",
       "      <td>0.010650</td>\n",
       "      <td>0.05</td>\n",
       "    </tr>\n",
       "  </tbody>\n",
       "</table>\n",
       "</div>"
      ],
      "text/plain": [
       "        name     value   min   max  vary  expr    stderr  init_value\n",
       "4   p1_sigma  0.052963  0.02  0.20  True  None  0.004079        0.05\n",
       "9   p2_sigma  0.144144  0.02  0.18  True  None  0.010011        0.04\n",
       "14  p3_sigma  0.125093  0.02  0.20  True  None  0.010650        0.05"
      ]
     },
     "execution_count": 17,
     "metadata": {},
     "output_type": "execute_result"
    }
   ],
   "source": [
    "df.loc[df.name.str.contains('sigma')]"
   ]
  },
  {
   "cell_type": "markdown",
   "metadata": {},
   "source": [
    "---\n",
    "**Executed:** Sat Nov 18 15:59:51 2017\n",
    "\n",
    "**Duration:** 22 seconds.\n",
    "\n",
    "**Autogenerated from:** [Example - FRET histogram fitting.ipynb](out/Example - FRET histogram fitting.ipynb)"
   ]
  }
 ],
 "metadata": {
  "kernelspec": {
   "display_name": "Python [default]",
   "language": "python",
   "name": "python3"
  },
  "language_info": {
   "codemirror_mode": {
    "name": "ipython",
    "version": 3
   },
   "file_extension": ".py",
   "mimetype": "text/x-python",
   "name": "python",
   "nbconvert_exporter": "python",
   "pygments_lexer": "ipython3",
   "version": "3.5.2"
  },
  "toc": {
   "colors": {
    "hover_highlight": "#DAA520",
    "running_highlight": "#FF0000",
    "selected_highlight": "#FFD700"
   },
   "moveMenuLeft": true,
   "nav_menu": {
    "height": "264px",
    "width": "252px"
   },
   "navigate_menu": true,
   "number_sections": false,
   "sideBar": true,
   "threshold": 4,
   "toc_cell": false,
   "toc_position": {
    "height": "673px",
    "left": "0px",
    "right": "1139.11px",
    "top": "107px",
    "width": "212px"
   },
   "toc_section_display": "block",
   "toc_window_display": true,
   "widenNotebook": false
  }
 },
 "nbformat": 4,
 "nbformat_minor": 1
}
