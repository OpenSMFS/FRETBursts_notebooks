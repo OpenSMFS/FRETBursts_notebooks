{
 "cells": [
  {
   "cell_type": "markdown",
   "metadata": {},
   "source": [
    "**Executed:** Sat Apr  8 15:24:53 2017\n",
    "\n",
    "**Duration:** 7 seconds."
   ]
  },
  {
   "cell_type": "markdown",
   "metadata": {
    "deletable": true,
    "editable": true,
    "input_collapsed": false
   },
   "source": [
    "# Exporting Burst Data\n",
    "\n",
    "*This notebook is part of a [tutorial series](https://github.com/tritemio/FRETBursts_notebooks) for the [FRETBursts](http://tritemio.github.io/FRETBursts/) burst analysis software.*"
   ]
  },
  {
   "cell_type": "markdown",
   "metadata": {
    "deletable": true,
    "editable": true
   },
   "source": [
    "> In this notebook, show a few example of how to export [FRETBursts](http://tritemio.github.io/FRETBursts/) \n",
    "> burst data to a file.\n"
   ]
  },
  {
   "cell_type": "markdown",
   "metadata": {
    "deletable": true,
    "editable": true
   },
   "source": [
    "<div class=\"alert alert-info\">\n",
    "Please <b>cite</b> FRETBursts in publications or presentations!\n",
    "</div>"
   ]
  },
  {
   "cell_type": "markdown",
   "metadata": {
    "deletable": true,
    "editable": true
   },
   "source": [
    "# Loading the software"
   ]
  },
  {
   "cell_type": "markdown",
   "metadata": {
    "deletable": true,
    "editable": true
   },
   "source": [
    "We start by loading **`FRETBursts`**:"
   ]
  },
  {
   "cell_type": "code",
   "execution_count": 1,
   "metadata": {
    "collapsed": false,
    "deletable": true,
    "editable": true,
    "scrolled": true
   },
   "outputs": [
    {
     "name": "stdout",
     "output_type": "stream",
     "text": [
      " - Optimized (cython) burst search loaded.\n",
      " - Optimized (cython) photon counting loaded.\n"
     ]
    },
    {
     "name": "stdout",
     "output_type": "stream",
     "text": [
      "--------------------------------------------------------------\n",
      " You are running FRETBursts (version 0.6.1).\n",
      "\n",
      " If you use this software please cite the following paper:\n",
      "\n",
      "   FRETBursts: An Open Source Toolkit for Analysis of Freely-Diffusing Single-Molecule FRET\n",
      "   Ingargiola et al. (2016). http://dx.doi.org/10.1371/journal.pone.0160716 \n",
      "\n",
      "--------------------------------------------------------------\n"
     ]
    }
   ],
   "source": [
    "from fretbursts import *"
   ]
  },
  {
   "cell_type": "code",
   "execution_count": 2,
   "metadata": {
    "collapsed": true,
    "deletable": true,
    "editable": true
   },
   "outputs": [],
   "source": [
    "sns = init_notebook()"
   ]
  },
  {
   "cell_type": "markdown",
   "metadata": {
    "deletable": true,
    "editable": true
   },
   "source": [
    "# Downloading the data file"
   ]
  },
  {
   "cell_type": "markdown",
   "metadata": {
    "deletable": true,
    "editable": true
   },
   "source": [
    "The full list of smFRET measurements used in the [FRETBursts tutorials](https://github.com/tritemio/FRETBursts_notebooks) \n",
    "can be found on [Figshare](http://dx.doi.org/10.6084/m9.figshare.1456362).\n",
    "\n",
    "This is the file we will download:"
   ]
  },
  {
   "cell_type": "code",
   "execution_count": 3,
   "metadata": {
    "collapsed": false,
    "deletable": true,
    "editable": true
   },
   "outputs": [],
   "source": [
    "url = 'http://files.figshare.com/2182601/0023uLRpitc_NTP_20dT_0.5GndCl.hdf5'"
   ]
  },
  {
   "cell_type": "markdown",
   "metadata": {
    "deletable": true,
    "editable": true
   },
   "source": [
    "<div class=\"alert alert-success\">\n",
    "You can change the <code>url</code> variable above to download your own data file.\n",
    "This is useful if you are executing FRETBursts online and you want to use\n",
    "your own data file. See \n",
    "<a href=\"1. First Steps - Start here if new to Jupyter Notebooks.ipynb\">First Steps</a>.\n",
    "</div>\n",
    "\n",
    "Here, we download the data file and put it in a folder named `data`, \n",
    "inside the notebook folder:"
   ]
  },
  {
   "cell_type": "code",
   "execution_count": 4,
   "metadata": {
    "collapsed": false,
    "deletable": true,
    "editable": true
   },
   "outputs": [
    {
     "name": "stdout",
     "output_type": "stream",
     "text": [
      "URL:  http://files.figshare.com/2182601/0023uLRpitc_NTP_20dT_0.5GndCl.hdf5\n",
      "File: 0023uLRpitc_NTP_20dT_0.5GndCl.hdf5\n",
      " \n",
      "File already on disk: /Users/anto/src/FRETBursts/notebooks/data/0023uLRpitc_NTP_20dT_0.5GndCl.hdf5 \n",
      "Delete it to re-download.\n"
     ]
    }
   ],
   "source": [
    "download_file(url, save_dir='./data')"
   ]
  },
  {
   "cell_type": "markdown",
   "metadata": {
    "deletable": true,
    "editable": true
   },
   "source": [
    "> **NOTE**: If you modified the `url` variable providing an invalid URL\n",
    "> the previous command will fail. In this case, edit the cell containing \n",
    "> the `url` and re-try the download."
   ]
  },
  {
   "cell_type": "markdown",
   "metadata": {
    "deletable": true,
    "editable": true
   },
   "source": [
    "# Loading the data file"
   ]
  },
  {
   "cell_type": "markdown",
   "metadata": {
    "deletable": true,
    "editable": true
   },
   "source": [
    "Here, we can directly define the file name to be loaded:"
   ]
  },
  {
   "cell_type": "code",
   "execution_count": 5,
   "metadata": {
    "collapsed": false,
    "deletable": true,
    "editable": true
   },
   "outputs": [
    {
     "data": {
      "text/plain": [
       "'./data/0023uLRpitc_NTP_20dT_0.5GndCl.hdf5'"
      ]
     },
     "execution_count": 5,
     "metadata": {},
     "output_type": "execute_result"
    }
   ],
   "source": [
    "filename = \"./data/0023uLRpitc_NTP_20dT_0.5GndCl.hdf5\"\n",
    "filename"
   ]
  },
  {
   "cell_type": "markdown",
   "metadata": {
    "deletable": true,
    "editable": true
   },
   "source": [
    "Let's check that the file exists:"
   ]
  },
  {
   "cell_type": "code",
   "execution_count": 6,
   "metadata": {
    "collapsed": false,
    "deletable": true,
    "editable": true
   },
   "outputs": [
    {
     "name": "stdout",
     "output_type": "stream",
     "text": [
      "Perfect, file found!\n"
     ]
    }
   ],
   "source": [
    "import os\n",
    "if os.path.isfile(filename):\n",
    "    print(\"Perfect, file found!\")\n",
    "else:\n",
    "    print(\"Sorry, file:\\n%s not found\" % filename)"
   ]
  },
  {
   "cell_type": "code",
   "execution_count": 7,
   "metadata": {
    "collapsed": false,
    "deletable": true,
    "editable": true
   },
   "outputs": [],
   "source": [
    "d = loader.photon_hdf5(filename)"
   ]
  },
  {
   "cell_type": "markdown",
   "metadata": {
    "deletable": true,
    "editable": true
   },
   "source": [
    "# μs-ALEX parameters\n",
    "\n",
    "At this point, timestamps and detectors numbers are contained in the `ph_times_t` and `det_t` attributes of `d`. Let's print them:"
   ]
  },
  {
   "cell_type": "code",
   "execution_count": 8,
   "metadata": {
    "collapsed": false,
    "deletable": true,
    "editable": true
   },
   "outputs": [
    {
     "data": {
      "text/plain": [
       "([array([     146847,      188045,      294124, ..., 47999863658,\n",
       "         47999877783, 47999955353])],\n",
       " [array([0, 1, 1, ..., 1, 1, 0], dtype=uint32)])"
      ]
     },
     "execution_count": 8,
     "metadata": {},
     "output_type": "execute_result"
    }
   ],
   "source": [
    "d.ph_times_t, d.det_t"
   ]
  },
  {
   "cell_type": "markdown",
   "metadata": {
    "deletable": true,
    "editable": true
   },
   "source": [
    "We need to define some ALEX parameters: "
   ]
  },
  {
   "cell_type": "code",
   "execution_count": 9,
   "metadata": {
    "collapsed": false,
    "deletable": true,
    "editable": true
   },
   "outputs": [],
   "source": [
    "d.add(det_donor_accept = (0, 1), \n",
    "      alex_period = 4000,\n",
    "      offset = 700,\n",
    "      D_ON = (2180, 3900), \n",
    "      A_ON = (200, 1800))"
   ]
  },
  {
   "cell_type": "markdown",
   "metadata": {
    "deletable": true,
    "editable": true
   },
   "source": [
    "Here the parameters are:\n",
    "\n",
    "- `det_donor_accept`: donor and acceptor channels\n",
    "- `alex_period`: length of excitation period (in timestamps units)\n",
    "- `D_ON` and `A_ON`: donor and acceptor excitation windows\n",
    "- `offset`: the offset between the start of alternation and start of timestamping \n",
    "  (see also [Definition of alternation periods](http://photon-hdf5.readthedocs.org/en/latest/phdata.html#definition-of-alternation-periods)).\n",
    "\n",
    "To check that the above parameters are correct, we need to plot the histogram of timestamps (modulo the alternation period) and superimpose the two excitation period definitions to it:"
   ]
  },
  {
   "cell_type": "code",
   "execution_count": 10,
   "metadata": {
    "collapsed": false,
    "deletable": true,
    "editable": true
   },
   "outputs": [
    {
     "data": {
      "image/png": "[encoded data removed]",
      "text/plain": [
       "<matplotlib.figure.Figure at 0x1173ed860>"
      ]
     },
     "metadata": {},
     "output_type": "display_data"
    }
   ],
   "source": [
    "bpl.plot_alternation_hist(d)"
   ]
  },
  {
   "cell_type": "markdown",
   "metadata": {
    "deletable": true,
    "editable": true
   },
   "source": [
    "If the previous alternation histogram looks correct, \n",
    "the corresponding definitions of the excitation periods can be applied to the data using the following command:"
   ]
  },
  {
   "cell_type": "code",
   "execution_count": 11,
   "metadata": {
    "collapsed": false,
    "deletable": true,
    "editable": true
   },
   "outputs": [
    {
     "name": "stdout",
     "output_type": "stream",
     "text": [
      "# Total photons (after ALEX selection):   2,259,522\n",
      "#  D  photons in D+A excitation periods:    721,537\n",
      "#  A  photons in D+A excitation periods:  1,537,985\n",
      "# D+A photons in  D  excitation period:   1,434,842\n",
      "# D+A photons in  A  excitation period:     824,680\n",
      "\n"
     ]
    }
   ],
   "source": [
    "loader.alex_apply_period(d)"
   ]
  },
  {
   "cell_type": "markdown",
   "metadata": {
    "deletable": true,
    "editable": true
   },
   "source": [
    "If the previous histogram does not look right, the parameters in the `d.add(...)` cell can be modified and checked by running the histogram plot cell until everything looks fine. Don't forget to apply the \n",
    "parameters with `loader.usalex_apply_period(d)` as a last step.\n",
    "\n",
    "> **NOTE:** After applying the ALEX parameters a new array of \n",
    "> timestamps containing only photons inside the excitation periods \n",
    "> is created (name `d.ph_times_m`). To save memory, by default, \n",
    "> the old timestamps array (`d.ph_times_t`) is deleted. Therefore, \n",
    "> in the following, when we talk about all-photon selection we always \n",
    "> refer to all photons inside both excitation periods."
   ]
  },
  {
   "cell_type": "markdown",
   "metadata": {
    "deletable": true,
    "editable": true
   },
   "source": [
    "# Background and burst search"
   ]
  },
  {
   "cell_type": "code",
   "execution_count": 12,
   "metadata": {
    "collapsed": false,
    "deletable": true,
    "editable": true
   },
   "outputs": [
    {
     "name": "stdout",
     "output_type": "stream",
     "text": [
      " - Calculating BG rates ... "
     ]
    },
    {
     "name": "stdout",
     "output_type": "stream",
     "text": [
      "[DONE]\n"
     ]
    }
   ],
   "source": [
    "d.calc_bg(bg.exp_fit, time_s=30, tail_min_us='auto', F_bg=1.7)"
   ]
  },
  {
   "cell_type": "code",
   "execution_count": 13,
   "metadata": {
    "collapsed": false,
    "deletable": true,
    "editable": true
   },
   "outputs": [
    {
     "name": "stdout",
     "output_type": "stream",
     "text": [
      " - Performing burst search (verbose=False) ..."
     ]
    },
    {
     "name": "stdout",
     "output_type": "stream",
     "text": [
      "[DONE]\n"
     ]
    },
    {
     "name": "stdout",
     "output_type": "stream",
     "text": [
      " - Calculating burst periods ..."
     ]
    },
    {
     "name": "stdout",
     "output_type": "stream",
     "text": [
      "[DONE]\n"
     ]
    },
    {
     "name": "stdout",
     "output_type": "stream",
     "text": [
      " - Counting D and A ph and calculating FRET ... \n"
     ]
    },
    {
     "name": "stdout",
     "output_type": "stream",
     "text": [
      "   - Applying background correction.\n"
     ]
    },
    {
     "name": "stdout",
     "output_type": "stream",
     "text": [
      "   - Applying leakage correction.\n"
     ]
    },
    {
     "name": "stdout",
     "output_type": "stream",
     "text": [
      "   - Applying direct excitation correction.\n"
     ]
    },
    {
     "name": "stdout",
     "output_type": "stream",
     "text": [
      "   [DONE Counting D/A]\n"
     ]
    }
   ],
   "source": [
    "d.burst_search(L=10, m=10, F=6)"
   ]
  },
  {
   "cell_type": "markdown",
   "metadata": {
    "deletable": true,
    "editable": true
   },
   "source": [
    "First we filter the bursts to avoid creating big files:"
   ]
  },
  {
   "cell_type": "code",
   "execution_count": 14,
   "metadata": {
    "collapsed": false,
    "deletable": true,
    "editable": true
   },
   "outputs": [],
   "source": [
    "ds = d.select_bursts(select_bursts.size, th1=60)"
   ]
  },
  {
   "cell_type": "markdown",
   "metadata": {
    "deletable": true,
    "editable": true
   },
   "source": [
    "# Exporting Burst Data"
   ]
  },
  {
   "cell_type": "markdown",
   "metadata": {
    "deletable": true,
    "editable": true
   },
   "source": [
    "By burst-data we mean all the scalar burst parameters, e.g. size, duration, background, etc...\n",
    "\n",
    "We can easily get a table (a pandas DataFrame) with all the burst data as follows:"
   ]
  },
  {
   "cell_type": "code",
   "execution_count": 15,
   "metadata": {
    "collapsed": false,
    "deletable": true,
    "editable": true
   },
   "outputs": [
    {
     "data": {
      "text/html": [
       "<div>\n",
       "<table border=\"1\" class=\"dataframe\">\n",
       "  <thead>\n",
       "    <tr style=\"text-align: right;\">\n",
       "      <th></th>\n",
       "      <th>E</th>\n",
       "      <th>S</th>\n",
       "      <th>bg_a</th>\n",
       "      <th>bg_aa</th>\n",
       "      <th>bg_d</th>\n",
       "      <th>bp</th>\n",
       "      <th>i_end</th>\n",
       "      <th>i_start</th>\n",
       "      <th>na</th>\n",
       "      <th>naa</th>\n",
       "      <th>nd</th>\n",
       "      <th>nda</th>\n",
       "      <th>nt</th>\n",
       "      <th>size_raw</th>\n",
       "      <th>t_end</th>\n",
       "      <th>t_start</th>\n",
       "      <th>width_ms</th>\n",
       "    </tr>\n",
       "  </thead>\n",
       "  <tbody>\n",
       "    <tr>\n",
       "      <th>0</th>\n",
       "      <td>0.324223</td>\n",
       "      <td>0.571004</td>\n",
       "      <td>2.993976</td>\n",
       "      <td>1.738086</td>\n",
       "      <td>1.795806</td>\n",
       "      <td>0</td>\n",
       "      <td>5422</td>\n",
       "      <td>5276</td>\n",
       "      <td>26.006024</td>\n",
       "      <td>60.261914</td>\n",
       "      <td>54.204194</td>\n",
       "      <td>-0.249776</td>\n",
       "      <td>140.472131</td>\n",
       "      <td>147</td>\n",
       "      <td>1.735530</td>\n",
       "      <td>1.732456</td>\n",
       "      <td>3.074012</td>\n",
       "    </tr>\n",
       "    <tr>\n",
       "      <th>1</th>\n",
       "      <td>0.420886</td>\n",
       "      <td>0.648480</td>\n",
       "      <td>2.809410</td>\n",
       "      <td>1.630940</td>\n",
       "      <td>1.685103</td>\n",
       "      <td>0</td>\n",
       "      <td>6173</td>\n",
       "      <td>5961</td>\n",
       "      <td>56.190590</td>\n",
       "      <td>72.369060</td>\n",
       "      <td>77.314897</td>\n",
       "      <td>0.765622</td>\n",
       "      <td>205.874547</td>\n",
       "      <td>213</td>\n",
       "      <td>1.795878</td>\n",
       "      <td>1.792993</td>\n",
       "      <td>2.884513</td>\n",
       "    </tr>\n",
       "    <tr>\n",
       "      <th>2</th>\n",
       "      <td>0.451800</td>\n",
       "      <td>0.467038</td>\n",
       "      <td>2.719270</td>\n",
       "      <td>1.578611</td>\n",
       "      <td>1.631036</td>\n",
       "      <td>0</td>\n",
       "      <td>6986</td>\n",
       "      <td>6757</td>\n",
       "      <td>47.280730</td>\n",
       "      <td>119.421389</td>\n",
       "      <td>57.368964</td>\n",
       "      <td>-0.226858</td>\n",
       "      <td>224.071083</td>\n",
       "      <td>230</td>\n",
       "      <td>2.026337</td>\n",
       "      <td>2.023545</td>\n",
       "      <td>2.791962</td>\n",
       "    </tr>\n",
       "    <tr>\n",
       "      <th>3</th>\n",
       "      <td>0.166462</td>\n",
       "      <td>0.984595</td>\n",
       "      <td>2.302365</td>\n",
       "      <td>1.336586</td>\n",
       "      <td>1.380973</td>\n",
       "      <td>0</td>\n",
       "      <td>10515</td>\n",
       "      <td>10403</td>\n",
       "      <td>17.697635</td>\n",
       "      <td>1.663414</td>\n",
       "      <td>88.619027</td>\n",
       "      <td>-0.192077</td>\n",
       "      <td>107.980076</td>\n",
       "      <td>113</td>\n",
       "      <td>3.116244</td>\n",
       "      <td>3.113880</td>\n",
       "      <td>2.363913</td>\n",
       "    </tr>\n",
       "    <tr>\n",
       "      <th>4</th>\n",
       "      <td>0.137702</td>\n",
       "      <td>0.998409</td>\n",
       "      <td>3.250750</td>\n",
       "      <td>1.887150</td>\n",
       "      <td>1.949821</td>\n",
       "      <td>0</td>\n",
       "      <td>10625</td>\n",
       "      <td>10548</td>\n",
       "      <td>9.749250</td>\n",
       "      <td>0.112850</td>\n",
       "      <td>61.050179</td>\n",
       "      <td>-0.271197</td>\n",
       "      <td>70.912280</td>\n",
       "      <td>78</td>\n",
       "      <td>3.133044</td>\n",
       "      <td>3.129707</td>\n",
       "      <td>3.337650</td>\n",
       "    </tr>\n",
       "  </tbody>\n",
       "</table>\n",
       "</div>"
      ],
      "text/plain": [
       "          E         S      bg_a     bg_aa      bg_d  bp  i_end  i_start  \\\n",
       "0  0.324223  0.571004  2.993976  1.738086  1.795806   0   5422     5276   \n",
       "1  0.420886  0.648480  2.809410  1.630940  1.685103   0   6173     5961   \n",
       "2  0.451800  0.467038  2.719270  1.578611  1.631036   0   6986     6757   \n",
       "3  0.166462  0.984595  2.302365  1.336586  1.380973   0  10515    10403   \n",
       "4  0.137702  0.998409  3.250750  1.887150  1.949821   0  10625    10548   \n",
       "\n",
       "          na         naa         nd       nda          nt  size_raw     t_end  \\\n",
       "0  26.006024   60.261914  54.204194 -0.249776  140.472131       147  1.735530   \n",
       "1  56.190590   72.369060  77.314897  0.765622  205.874547       213  1.795878   \n",
       "2  47.280730  119.421389  57.368964 -0.226858  224.071083       230  2.026337   \n",
       "3  17.697635    1.663414  88.619027 -0.192077  107.980076       113  3.116244   \n",
       "4   9.749250    0.112850  61.050179 -0.271197   70.912280        78  3.133044   \n",
       "\n",
       "    t_start  width_ms  \n",
       "0  1.732456  3.074012  \n",
       "1  1.792993  2.884513  \n",
       "2  2.023545  2.791962  \n",
       "3  3.113880  2.363913  \n",
       "4  3.129707  3.337650  "
      ]
     },
     "execution_count": 15,
     "metadata": {},
     "output_type": "execute_result"
    }
   ],
   "source": [
    "bursts = bext.burst_data(ds, include_bg=True, include_ph_index=True)\n",
    "bursts.head(5)  # display first 5 bursts"
   ]
  },
  {
   "cell_type": "markdown",
   "metadata": {
    "deletable": true,
    "editable": true
   },
   "source": [
    "Once we have the DataFrame, saving it to disk in CSV format is trivial:"
   ]
  },
  {
   "cell_type": "code",
   "execution_count": 16,
   "metadata": {
    "collapsed": true,
    "deletable": true,
    "editable": true
   },
   "outputs": [],
   "source": [
    "bursts.to_csv('%s_burst_data.csv' % filename.replace('.hdf5', ''))"
   ]
  },
  {
   "cell_type": "markdown",
   "metadata": {
    "deletable": true,
    "editable": true
   },
   "source": [
    "# Exporting Bursts Timestamps\n",
    "\n",
    "Exporting timestamps and other photon-data for each bursts is a little trickier\n",
    "because the data is less uniform (i.e. each burst has a different number of photons).\n",
    "In the following example, we will save a `csv` file with variable-length columns.\n",
    "Each burst is represented by to lines: one line for timestamps and one line for the\n",
    "photon-stream (excitation/emission period) the timestamps belongs to.\n",
    "\n",
    "Let's start by creating an array of photon streams containing\n",
    "one of the values 0, 1, 2 or  3  for each timestamp.\n",
    "These values will correspond to the DexDem, DexAem, AexDem, AemAem\n",
    "photon streams respectively."
   ]
  },
  {
   "cell_type": "code",
   "execution_count": 17,
   "metadata": {
    "collapsed": false,
    "deletable": true,
    "editable": true
   },
   "outputs": [
    {
     "data": {
      "text/plain": [
       "[array([False,  True,  True, ..., False,  True, False], dtype=bool)]"
      ]
     },
     "execution_count": 17,
     "metadata": {},
     "output_type": "execute_result"
    }
   ],
   "source": [
    "ds.A_ex"
   ]
  },
  {
   "cell_type": "code",
   "execution_count": 18,
   "metadata": {
    "collapsed": true,
    "deletable": true,
    "editable": true
   },
   "outputs": [],
   "source": [
    "#{0: DexDem, 1:DexAem, 2: AexDem, 3: AemAem}"
   ]
  },
  {
   "cell_type": "code",
   "execution_count": 19,
   "metadata": {
    "collapsed": false,
    "deletable": true,
    "editable": true
   },
   "outputs": [
    {
     "data": {
      "text/plain": [
       "array([1, 3, 3, ..., 1, 3, 0], dtype=int8)"
      ]
     },
     "execution_count": 19,
     "metadata": {},
     "output_type": "execute_result"
    }
   ],
   "source": [
    "(ds.A_ex_.view('int8') << 1) + ds.A_em_.view('int8')"
   ]
  },
  {
   "cell_type": "markdown",
   "metadata": {
    "deletable": true,
    "editable": true
   },
   "source": [
    "Now we define an header documenting the file format. Ww will also include the \n",
    "filename of the measurement. \n",
    "\n",
    "This is just an example including nanotimes:"
   ]
  },
  {
   "cell_type": "code",
   "execution_count": 20,
   "metadata": {
    "collapsed": false,
    "deletable": true,
    "editable": true
   },
   "outputs": [
    {
     "name": "stdout",
     "output_type": "stream",
     "text": [
      "# BPH2CSV: ./data/0023uLRpitc_NTP_20dT_0.5GndCl.hdf5\n",
      "# Lines per burst: 3\n",
      "# - timestamps (int64): in 12.5 ns units\n",
      "# - nanotimes (int16): in raw TCSPC unit (3.3ps)\n",
      "# - stream (uint8): the photon stream according to the mapping {0: DexDem, 1: DexAem, 2: AexDem, 3: AemAem}\n",
      "\n"
     ]
    }
   ],
   "source": [
    "header = \"\"\"\\\n",
    "# BPH2CSV: %s\n",
    "# Lines per burst: 3\n",
    "# - timestamps (int64): in 12.5 ns units\n",
    "# - nanotimes (int16): in raw TCSPC unit (3.3ps)\n",
    "# - stream (uint8): the photon stream according to the mapping {0: DexDem, 1: DexAem, 2: AexDem, 3: AemAem}\n",
    "\"\"\" % filename\n",
    "print(header)"
   ]
  },
  {
   "cell_type": "markdown",
   "metadata": {
    "deletable": true,
    "editable": true
   },
   "source": [
    "And this is header we are going to use:"
   ]
  },
  {
   "cell_type": "code",
   "execution_count": 21,
   "metadata": {
    "collapsed": false,
    "deletable": true,
    "editable": true
   },
   "outputs": [
    {
     "name": "stdout",
     "output_type": "stream",
     "text": [
      "# BPH2CSV: ./data/0023uLRpitc_NTP_20dT_0.5GndCl.hdf5\n",
      "# Lines per burst: 2\n",
      "# - timestamps (int64): in 12.5 ns units\n",
      "# - stream (uint8): the photon stream according to the mapping {0: DexDem, 1: DexAem, 2: AexDem, 3: AemAem}\n",
      "\n"
     ]
    }
   ],
   "source": [
    "header = \"\"\"\\\n",
    "# BPH2CSV: %s\n",
    "# Lines per burst: 2\n",
    "# - timestamps (int64): in 12.5 ns units\n",
    "# - stream (uint8): the photon stream according to the mapping {0: DexDem, 1: DexAem, 2: AexDem, 3: AemAem}\n",
    "\"\"\" % filename\n",
    "print(header)"
   ]
  },
  {
   "cell_type": "markdown",
   "metadata": {
    "deletable": true,
    "editable": true
   },
   "source": [
    "We can now save the data to disk:"
   ]
  },
  {
   "cell_type": "code",
   "execution_count": 22,
   "metadata": {
    "collapsed": false,
    "deletable": true,
    "editable": true
   },
   "outputs": [],
   "source": [
    "out_fname = '%s_burst_timestamps.csv' % filename.replace('.hdf5', '')\n",
    "dx = ds\n",
    "ich = 0\n",
    "\n",
    "bursts = dx.mburst[ich]\n",
    "timestamps = dx.ph_times_m[ich]\n",
    "stream = (dx.A_ex[ich].view('int8') << 1) + dx.A_em[ich].view('int8')\n",
    "with open(out_fname, 'wt') as f:\n",
    "    f.write(header)\n",
    "    for times, period in zip(bl.iter_bursts_ph(timestamps, bursts),\n",
    "                             bl.iter_bursts_ph(stream, bursts)):\n",
    "        times.tofile(f, sep=',')\n",
    "        f.write('\\n')\n",
    "        period.tofile(f, sep=',')\n",
    "        f.write('\\n')"
   ]
  },
  {
   "cell_type": "markdown",
   "metadata": {
    "deletable": true,
    "editable": true
   },
   "source": [
    "Done!"
   ]
  },
  {
   "cell_type": "markdown",
   "metadata": {
    "deletable": true,
    "editable": true
   },
   "source": [
    "## Read the file back\n",
    "\n",
    "For consistency check, we can read back the data we just saved.\n",
    "As an exercise we will put the results in a pandas DataFrame\n",
    "which is more convenient than an array for holding this data."
   ]
  },
  {
   "cell_type": "code",
   "execution_count": 23,
   "metadata": {
    "collapsed": false,
    "deletable": true,
    "editable": true
   },
   "outputs": [],
   "source": [
    "import pandas as pd"
   ]
  },
  {
   "cell_type": "markdown",
   "metadata": {
    "deletable": true,
    "editable": true
   },
   "source": [
    "We start reading the header and computing \n",
    "some file-specific constants. "
   ]
  },
  {
   "cell_type": "code",
   "execution_count": 24,
   "metadata": {
    "collapsed": false,
    "deletable": true,
    "editable": true
   },
   "outputs": [
    {
     "name": "stdout",
     "output_type": "stream",
     "text": [
      "# BPH2CSV: ./data/0023uLRpitc_NTP_20dT_0.5GndCl.hdf5\n",
      "# Lines per burst: 2\n",
      "# - timestamps (int64): in 12.5 ns units\n",
      "# - stream (uint8): the photon stream according to the mapping {0: DexDem, 1: DexAem, 2: AexDem, 3: AemAem}\n",
      "\n"
     ]
    }
   ],
   "source": [
    "with open(out_fname) as f:\n",
    "    lines = []\n",
    "    lines.append(f.readline())\n",
    "    while lines[-1].startswith('#'):\n",
    "        lines.append(f.readline())\n",
    "    header = ''.join(lines[:-1])\n",
    "print(header)"
   ]
  },
  {
   "cell_type": "code",
   "execution_count": 25,
   "metadata": {
    "collapsed": false,
    "deletable": true,
    "editable": true
   },
   "outputs": [
    {
     "data": {
      "text/plain": [
       "(4, 2)"
      ]
     },
     "execution_count": 25,
     "metadata": {},
     "output_type": "execute_result"
    }
   ],
   "source": [
    "stream_map = {0: 'DexDem', 1: 'DexAem', 2: 'AexDem', 3: 'AemAem'}\n",
    "nrows = int(header.split('\\n')[1].split(':')[1].strip())\n",
    "header_len = len(header.split('\\n')) - 1\n",
    "header_len, nrows"
   ]
  },
  {
   "cell_type": "markdown",
   "metadata": {
    "deletable": true,
    "editable": true
   },
   "source": [
    "As a test, we load the data for the first burst into a dataframe, converting the numerical column \"streams\"\n",
    "into photon-stream names (strings). The new column is of type categorical, so it will take very little space:"
   ]
  },
  {
   "cell_type": "code",
   "execution_count": 26,
   "metadata": {
    "collapsed": false,
    "deletable": true,
    "editable": true
   },
   "outputs": [
    {
     "data": {
      "text/html": [
       "<div>\n",
       "<table border=\"1\" class=\"dataframe\">\n",
       "  <thead>\n",
       "    <tr style=\"text-align: right;\">\n",
       "      <th></th>\n",
       "      <th>timestamp</th>\n",
       "      <th>stream</th>\n",
       "    </tr>\n",
       "  </thead>\n",
       "  <tbody>\n",
       "    <tr>\n",
       "      <th>0</th>\n",
       "      <td>138596500</td>\n",
       "      <td>AemAem</td>\n",
       "    </tr>\n",
       "    <tr>\n",
       "      <th>1</th>\n",
       "      <td>138622303</td>\n",
       "      <td>DexDem</td>\n",
       "    </tr>\n",
       "    <tr>\n",
       "      <th>2</th>\n",
       "      <td>138626950</td>\n",
       "      <td>DexDem</td>\n",
       "    </tr>\n",
       "    <tr>\n",
       "      <th>3</th>\n",
       "      <td>138641792</td>\n",
       "      <td>AemAem</td>\n",
       "    </tr>\n",
       "    <tr>\n",
       "      <th>4</th>\n",
       "      <td>138643022</td>\n",
       "      <td>DexDem</td>\n",
       "    </tr>\n",
       "    <tr>\n",
       "      <th>...</th>\n",
       "      <td>...</td>\n",
       "      <td>...</td>\n",
       "    </tr>\n",
       "    <tr>\n",
       "      <th>142</th>\n",
       "      <td>138788833</td>\n",
       "      <td>AemAem</td>\n",
       "    </tr>\n",
       "    <tr>\n",
       "      <th>143</th>\n",
       "      <td>138790337</td>\n",
       "      <td>DexDem</td>\n",
       "    </tr>\n",
       "    <tr>\n",
       "      <th>144</th>\n",
       "      <td>138790703</td>\n",
       "      <td>DexAem</td>\n",
       "    </tr>\n",
       "    <tr>\n",
       "      <th>145</th>\n",
       "      <td>138790873</td>\n",
       "      <td>DexAem</td>\n",
       "    </tr>\n",
       "    <tr>\n",
       "      <th>146</th>\n",
       "      <td>138842421</td>\n",
       "      <td>DexDem</td>\n",
       "    </tr>\n",
       "  </tbody>\n",
       "</table>\n",
       "<p>147 rows × 2 columns</p>\n",
       "</div>"
      ],
      "text/plain": [
       "     timestamp  stream\n",
       "0    138596500  AemAem\n",
       "1    138622303  DexDem\n",
       "2    138626950  DexDem\n",
       "3    138641792  AemAem\n",
       "4    138643022  DexDem\n",
       "..         ...     ...\n",
       "142  138788833  AemAem\n",
       "143  138790337  DexDem\n",
       "144  138790703  DexAem\n",
       "145  138790873  DexAem\n",
       "146  138842421  DexDem\n",
       "\n",
       "[147 rows x 2 columns]"
      ]
     },
     "execution_count": 26,
     "metadata": {},
     "output_type": "execute_result"
    }
   ],
   "source": [
    "burstph = (pd.read_csv(out_fname, skiprows=header_len, nrows=nrows, header=None).T\n",
    "           .rename(columns={0: 'timestamp', 1: 'stream'}))\n",
    "burstph.stream = (burstph.stream\n",
    "                  .apply(lambda x: stream_map[pd.to_numeric(x)])\n",
    "                  .astype('category', categories=['DexDem', 'DexAem', 'AexDem', 'AemAem'], ordered=True))\n",
    "burstph"
   ]
  },
  {
   "cell_type": "markdown",
   "metadata": {
    "deletable": true,
    "editable": true
   },
   "source": [
    "For reading the whole file I use a different approach. First, I load the entire file \n",
    "in two lists of lists (one for timestamps and one for the stream). Next, I create\n",
    "a single DataFrame with a third column indicating the burst index."
   ]
  },
  {
   "cell_type": "code",
   "execution_count": 27,
   "metadata": {
    "collapsed": false,
    "deletable": true,
    "editable": true
   },
   "outputs": [
    {
     "data": {
      "text/html": [
       "<div>\n",
       "<table border=\"1\" class=\"dataframe\">\n",
       "  <thead>\n",
       "    <tr style=\"text-align: right;\">\n",
       "      <th></th>\n",
       "      <th>timestamp</th>\n",
       "      <th>stream</th>\n",
       "      <th>iburst</th>\n",
       "    </tr>\n",
       "  </thead>\n",
       "  <tbody>\n",
       "    <tr>\n",
       "      <th>0</th>\n",
       "      <td>138596500</td>\n",
       "      <td>AemAem</td>\n",
       "      <td>0</td>\n",
       "    </tr>\n",
       "    <tr>\n",
       "      <th>1</th>\n",
       "      <td>138622303</td>\n",
       "      <td>DexDem</td>\n",
       "      <td>0</td>\n",
       "    </tr>\n",
       "    <tr>\n",
       "      <th>2</th>\n",
       "      <td>138626950</td>\n",
       "      <td>DexDem</td>\n",
       "      <td>0</td>\n",
       "    </tr>\n",
       "    <tr>\n",
       "      <th>3</th>\n",
       "      <td>138641792</td>\n",
       "      <td>AemAem</td>\n",
       "      <td>0</td>\n",
       "    </tr>\n",
       "    <tr>\n",
       "      <th>4</th>\n",
       "      <td>138643022</td>\n",
       "      <td>DexDem</td>\n",
       "      <td>0</td>\n",
       "    </tr>\n",
       "    <tr>\n",
       "      <th>...</th>\n",
       "      <td>...</td>\n",
       "      <td>...</td>\n",
       "      <td>...</td>\n",
       "    </tr>\n",
       "    <tr>\n",
       "      <th>232327</th>\n",
       "      <td>47909435404</td>\n",
       "      <td>DexAem</td>\n",
       "      <td>987</td>\n",
       "    </tr>\n",
       "    <tr>\n",
       "      <th>232328</th>\n",
       "      <td>47909438825</td>\n",
       "      <td>DexAem</td>\n",
       "      <td>987</td>\n",
       "    </tr>\n",
       "    <tr>\n",
       "      <th>232329</th>\n",
       "      <td>47909451409</td>\n",
       "      <td>DexDem</td>\n",
       "      <td>987</td>\n",
       "    </tr>\n",
       "    <tr>\n",
       "      <th>232330</th>\n",
       "      <td>47909458878</td>\n",
       "      <td>DexAem</td>\n",
       "      <td>987</td>\n",
       "    </tr>\n",
       "    <tr>\n",
       "      <th>232331</th>\n",
       "      <td>47909462189</td>\n",
       "      <td>DexDem</td>\n",
       "      <td>987</td>\n",
       "    </tr>\n",
       "  </tbody>\n",
       "</table>\n",
       "<p>232332 rows × 3 columns</p>\n",
       "</div>"
      ],
      "text/plain": [
       "          timestamp  stream  iburst\n",
       "0         138596500  AemAem       0\n",
       "1         138622303  DexDem       0\n",
       "2         138626950  DexDem       0\n",
       "3         138641792  AemAem       0\n",
       "4         138643022  DexDem       0\n",
       "...             ...     ...     ...\n",
       "232327  47909435404  DexAem     987\n",
       "232328  47909438825  DexAem     987\n",
       "232329  47909451409  DexDem     987\n",
       "232330  47909458878  DexAem     987\n",
       "232331  47909462189  DexDem     987\n",
       "\n",
       "[232332 rows x 3 columns]"
      ]
     },
     "execution_count": 27,
     "metadata": {},
     "output_type": "execute_result"
    }
   ],
   "source": [
    "import csv\n",
    "from builtins import int  # python 2 workaround, can be removed on python 3\n",
    "\n",
    "# Read data in two list of lists\n",
    "t_list, s_list = [], []\n",
    "with open(out_fname) as f:\n",
    "    for i in range(header_len):\n",
    "        f.readline()\n",
    "    csvreader = csv.reader(f)    \n",
    "    for row in csvreader:\n",
    "        t_list.append([int(v) for v in row])\n",
    "        s_list.append([int(v) for v in next(csvreader)])\n",
    "\n",
    "# Turn the inner list into pandas.DataFrame\n",
    "d_list = []\n",
    "for ib, (t, s) in enumerate(zip(t_list, s_list)):\n",
    "    d_list.append(\n",
    "        pd.DataFrame({'timestamp': t, 'stream': s}, columns=['timestamp', 'stream'])\n",
    "        .assign(iburst=ib)\n",
    "    )\n",
    "\n",
    "# Concatenate dataframes\n",
    "burstph = pd.concat(d_list, ignore_index=True)\n",
    "\n",
    "# Convert stream column into categorical\n",
    "burstph.stream = (burstph.stream\n",
    "                  .apply(lambda x: stream_map[pd.to_numeric(x)])\n",
    "                  .astype('category', categories=['DexDem', 'DexAem', 'AexDem', 'AemAem'], ordered=True))\n",
    "burstph"
   ]
  },
  {
   "cell_type": "code",
   "execution_count": 28,
   "metadata": {
    "collapsed": false,
    "deletable": true,
    "editable": true
   },
   "outputs": [
    {
     "data": {
      "text/plain": [
       "timestamp       int64\n",
       "stream       category\n",
       "iburst          int64\n",
       "dtype: object"
      ]
     },
     "execution_count": 28,
     "metadata": {},
     "output_type": "execute_result"
    }
   ],
   "source": [
    "burstph.dtypes"
   ]
  },
  {
   "cell_type": "markdown",
   "metadata": {
    "deletable": true,
    "editable": true
   },
   "source": [
    "This was just an example. There are certainly more efficient ways \n",
    "to read the file into a DataFrame. Please feel free to contribute\n",
    "new methods to illustrate a different (more efficient or simpler)\n",
    "approach."
   ]
  }
 ],
 "metadata": {
  "kernelspec": {
   "display_name": "Python [default]",
   "language": "python",
   "name": "python3"
  },
  "language_info": {
   "codemirror_mode": {
    "name": "ipython",
    "version": 3
   },
   "file_extension": ".py",
   "mimetype": "text/x-python",
   "name": "python",
   "nbconvert_exporter": "python",
   "pygments_lexer": "ipython3",
   "version": "3.5.1"
  },
  "nav_menu": {},
  "toc": {
   "navigate_menu": true,
   "number_sections": false,
   "sideBar": true,
   "threshold": 6,
   "toc_cell": false,
   "toc_section_display": "block",
   "toc_window_display": true
  }
 },
 "nbformat": 4,
 "nbformat_minor": 0
}
